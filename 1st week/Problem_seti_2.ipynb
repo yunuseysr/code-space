{
 "cells": [
  {
   "cell_type": "markdown",
   "source": [
    "1) En az 10 kullanıcının ismini içinde bulunduran bir liste ve boş bir liste olmak üzere iki liste tanımlayın ve daha sonra en az 10 kullanıcının adını içinde bulunduran listeden random modülü yardımıyla sırasıyla üç ismi rastgele seçerek ikinci boş listeye ekleyin daha sonra çekilişi kazananlar diye ikinci listenin içerisindeki isimleri sırasıyla consola yazdırın.\n",
    "\n",
    "Örnek Çıktı: Çekilişi kazananlar: Ahmet Hasan Selin"
   ],
   "metadata": {
    "collapsed": false
   }
  },
  {
   "cell_type": "code",
   "execution_count": null,
   "metadata": {
    "collapsed": true
   },
   "outputs": [],
   "source": []
  },
  {
   "cell_type": "markdown",
   "source": [
    "2) Sayı tahmin oyunu yapalım, 1 ile 100 arasında rastgele bir sayı belirleyip kullanıcının bu sayıyı tahmin etmesini sağlayalım kullanıcı sayıyı doğru bilinceye kadar sürekli olarak bir döngü içerisinde kullanıcıdan sayıyı alalım ve eğer kullanıcının girdiği sayı rastgele üretilen sayıdan büyükse program kullanıcıya daha küçük bir sayı girin diye bilgi versin aynı şekilde kullanıcının girdiği sayı rastgele üretilen sayıdan küçükse program kullanıcıya daha büyük bir sayı girmesi konusunda bilgi versin kullanıcının sayıyı doğru tahmin etmesi durumunda ise program tebrikler sayıyı doğru tahmin ettiniz tarzında bir bilgi vererek döngüyü sonlandırsın."
   ],
   "metadata": {
    "collapsed": false
   }
  },
  {
   "cell_type": "code",
   "execution_count": null,
   "outputs": [],
   "source": [],
   "metadata": {
    "collapsed": false,
    "pycharm": {
     "name": "#%%\n"
    }
   }
  },
  {
   "cell_type": "markdown",
   "source": [
    "3) Basit bir hesap makinesi yapalım, kullanıcının yapmak istediği işleme göre kullanıcıdan aldığı iki sayıyı işleme sokup sonucunu ekrana yazdıran bir kod yazın, ve kullanıcı sistemden çıkış yapmak isteyinceye kadar kullanıcının işlem yapmaya devam etmesini sağlayın ayrıca bu kodları hata yönetimine uygun bir biçimde yazın kullanıcı sayı girmesi gerekirken bir harf girmesi veya benzeri bir yanlış girdi durumunda program kullanıcıya hata yaptığını ve tekrar denemesi gerektiğini belirtsin.\n",
    "\n",
    "Örnek Çıktı: Yapmak istediğiniz işlem nedir (1-toplama | 2-çıkarma | 3-bölme | 4-çarpma | 5-çıkış): İlk sayıyı giriniz: İkinci sayıyı giriniz: . . ."
   ],
   "metadata": {
    "collapsed": false
   }
  },
  {
   "cell_type": "code",
   "execution_count": null,
   "outputs": [],
   "source": [],
   "metadata": {
    "collapsed": false,
    "pycharm": {
     "name": "#%%\n"
    }
   }
  },
  {
   "cell_type": "markdown",
   "source": [
    "4) vucutKitleEndeksi adında bir fonksiyon tanımlayın ve bu fonksiyon çalıştırıldığında kullanıcıdan boy ve kilo adında iki değer alsın daha sonra bu değerleri kullanarak vücut kitle endeksi hesaplama formülüne göre bir hesaplama yapın ortaya çıkan sonuç 18.5 den küçükse kullanıcıya Zayıf, 18.5 den buyuk ve 25 den küçük eşitse kullanıcıya Normal, 25 den büyük 30 ve 30 dan küçük eşitse kullanıcıya Kilolusunuz, 30 dan büyük ise kullanıcıya Obezsiniz diye bilgi mesajı versin."
   ],
   "metadata": {
    "collapsed": false
   }
  },
  {
   "cell_type": "code",
   "execution_count": null,
   "outputs": [],
   "source": [],
   "metadata": {
    "collapsed": false,
    "pycharm": {
     "name": "#%%\n"
    }
   }
  },
  {
   "cell_type": "markdown",
   "source": [
    "5) Bir fonksiyon tanımlayın bu fonksiyon kendisine parametre olarak verilen değerin 10 tabanında logaritmasını, karekökünü ve mutlak değerini hesaplayarak sonuclar.txt diye bir dosyaya alt alta yazdırsın. (sonuçlar.txt dosyasını programın çalıştığı python dosyasıyla aynı dizinde olsun ve eğer ki sonuclar.txt adında bir dosya mevcut dizinde varsa o dosyanın içerisine yazdırma işlemi yapılsın aksi taktirde dizinde sonuclar.txt adında bir dosya oluşturulsun ve sonuçlar içerisine yazılsın.)"
   ],
   "metadata": {
    "collapsed": false
   }
  },
  {
   "cell_type": "code",
   "execution_count": null,
   "outputs": [],
   "source": [],
   "metadata": {
    "collapsed": false,
    "pycharm": {
     "name": "#%%\n"
    }
   }
  },
  {
   "cell_type": "markdown",
   "source": [
    "6) User adında bir sınıf oluşturun bu sınıf içerisinde name,surname,phone_no adında 3 niteliğe sahip olsun, bu sınıftan bir nesne (obje) oluşturulması durumunda bu nitelikler parametre olarak zorunlu biçimde tanımlanabilsin daha sonra oluşturulan obje üzerinden tek tek name,surname ve phone_no değerlerine erişerek bunları alt alta consola yazdırın."
   ],
   "metadata": {
    "collapsed": false
   }
  },
  {
   "cell_type": "code",
   "execution_count": null,
   "outputs": [],
   "source": [],
   "metadata": {
    "collapsed": false,
    "pycharm": {
     "name": "#%%\n"
    }
   }
  },
  {
   "cell_type": "markdown",
   "source": [
    "7) Kullanicilar adında bir sınıf tanımlayın bu sınıf içerisinde nitelik olarak isim, soy_isim, kullanici_id adında üç değer alsın ve bu sınıf içerisinde bir de yas_hesapla diye bir metod olsun bu metod 2022 den kendisine parametre olarak verilen değeri çıkarsın ve sonucu döndürsün. Daha sonra Ogrenci ve Ogretmen adında iki sınıf daha oluşturun Ogrenci sınıfı Kullanicilar sınıfınımiras alsın ve kendine özgü öğrenci_no adında bir niteliği olsun, aynı sekilde Ogretmen sınıfıda Kullanicilar sınıfını miras alsın ve Ogretmen sınıfınında kendine özgü e_mail adında bir niteliği olsun daha sonra hem Ogrenci hem Ogretmen sınıflarından birer obje oluşturun ve her iki objeden de üst sınıf olan Kullanicilar sınıfındaki yas_hesapla metoduna erişerek metodu çalıştırın metodun döndüğü sonucu bir değişkene atayarak consola bastırın.\n",
    "\n",
    "Örnek Çıktı: Zeybep adlı öğrencisin yaşı: 21 Mustafa adlı öğretmenin Yaşı: 42"
   ],
   "metadata": {
    "collapsed": false
   }
  },
  {
   "cell_type": "code",
   "execution_count": null,
   "outputs": [],
   "source": [],
   "metadata": {
    "collapsed": false,
    "pycharm": {
     "name": "#%%\n"
    }
   }
  }
 ],
 "metadata": {
  "kernelspec": {
   "display_name": "Python 3",
   "language": "python",
   "name": "python3"
  },
  "language_info": {
   "codemirror_mode": {
    "name": "ipython",
    "version": 2
   },
   "file_extension": ".py",
   "mimetype": "text/x-python",
   "name": "python",
   "nbconvert_exporter": "python",
   "pygments_lexer": "ipython2",
   "version": "2.7.6"
  }
 },
 "nbformat": 4,
 "nbformat_minor": 0
}