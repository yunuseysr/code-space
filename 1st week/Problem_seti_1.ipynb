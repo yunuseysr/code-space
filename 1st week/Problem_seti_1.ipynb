{
 "cells": [
  {
   "cell_type": "markdown",
   "metadata": {
    "collapsed": true,
    "pycharm": {
     "name": "#%% md\n"
    }
   },
   "source": [
    "1) Python’da tüketiciye su faturasını bildiren mesaj metni oluşturan kodları yazınız. Kullanıcıya fatura tutarını belirten mesajda kullanılacak değişkenler: Hitap şekli, abone numarası, tüketim dönemi, tüketim tutarı.\n",
    "\n",
    "Örnek Çıktı: Sayın..............nolu abonemiz .................. dönemi faturanız ...... TL’dir. Python Belediyesi."
   ]
  },
  {
   "cell_type": "code",
   "execution_count": null,
   "outputs": [],
   "source": [],
   "metadata": {
    "collapsed": false,
    "pycharm": {
     "name": "#%%\n"
    }
   }
  },
  {
   "cell_type": "markdown",
   "source": [
    "2) Kullanıcıdan alınan iki sayının ortalamasını hesaplayıp consola bastıran kodu yazınız."
   ],
   "metadata": {
    "collapsed": false
   }
  },
  {
   "cell_type": "code",
   "execution_count": null,
   "outputs": [],
   "source": [],
   "metadata": {
    "collapsed": false,
    "pycharm": {
     "name": "#%%\n"
    }
   }
  },
  {
   "cell_type": "markdown",
   "source": [
    "3) Kullanıcının bir isim alın ve alınan bu ismi daha önceden oluşturulmuş listeye ekleyin."
   ],
   "metadata": {
    "collapsed": false
   }
  },
  {
   "cell_type": "code",
   "execution_count": null,
   "outputs": [],
   "source": [],
   "metadata": {
    "collapsed": false,
    "pycharm": {
     "name": "#%%\n"
    }
   }
  },
  {
   "cell_type": "markdown",
   "source": [
    "4) Bir sözlük yapısı oluşturun bu sözlük yapısında, isim, soy isim, telefon no, ev adresi gibi 4 adet anahtar olsun ve kullanıcıdan sırasıyla bu anahtar değerlere karşılık gelecek bilgileri alarak sözlüğe ekleyin, işlem bittikten sonra sözlüğü print fonksiyonu içerisinde format() metodunu kullanarak tek tek alt alta kullanıcının girdiği değerleri yazdırın.\n",
    "\n",
    "Örnek Çıktı:\n",
    "İsim : Ahmet\n",
    "Soy isim: Yılmaz\n",
    "Tel: 0512452\n",
    "Ev Adresi: Rastgele mahallesi random sokak kapı no: 3"
   ],
   "metadata": {
    "collapsed": false
   }
  },
  {
   "cell_type": "code",
   "execution_count": null,
   "outputs": [],
   "source": [],
   "metadata": {
    "collapsed": false,
    "pycharm": {
     "name": "#%%\n"
    }
   }
  },
  {
   "cell_type": "markdown",
   "source": [
    "5) Kullanıcıdan not1 ve not2 olmak üzere iki not alın ve bu notların ortalamasını hesaplayıp ortalama 50 den büyük 60 dan küçükse consola “geçtin” , 60 dan büyük 80 den küçük ise “İyi bir ortalama ile geçtin” 80 den büyük ise “Çok iyi bir ortalama ile geçtin” ve son olarak 50 den küçükse “Kaldınız” yazdıran programı yazın."
   ],
   "metadata": {
    "collapsed": false
   }
  },
  {
   "cell_type": "code",
   "execution_count": null,
   "outputs": [],
   "source": [],
   "metadata": {
    "collapsed": false,
    "pycharm": {
     "name": "#%%\n"
    }
   }
  },
  {
   "cell_type": "markdown",
   "source": [],
   "metadata": {
    "collapsed": false
   }
  }
 ],
 "metadata": {
  "kernelspec": {
   "display_name": "Python 3",
   "language": "python",
   "name": "python3"
  },
  "language_info": {
   "codemirror_mode": {
    "name": "ipython",
    "version": 2
   },
   "file_extension": ".py",
   "mimetype": "text/x-python",
   "name": "python",
   "nbconvert_exporter": "python",
   "pygments_lexer": "ipython2",
   "version": "2.7.6"
  }
 },
 "nbformat": 4,
 "nbformat_minor": 0
}